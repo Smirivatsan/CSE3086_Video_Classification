{
 "cells": [
  {
   "cell_type": "code",
   "execution_count": 1,
   "id": "035b7450",
   "metadata": {},
   "outputs": [
    {
     "name": "stdout",
     "output_type": "stream",
     "text": [
      "['admin', 'config', 'local']\n"
     ]
    }
   ],
   "source": [
    "#Connecting to MongoDB server\n",
    "\n",
    "import pymongo\n",
    "\n",
    "myclient = pymongo.MongoClient(\"mongodb://localhost:27017/\")\n",
    "\n",
    "print(myclient.list_database_names())"
   ]
  },
  {
   "cell_type": "code",
   "execution_count": 2,
   "id": "8b2d250a",
   "metadata": {},
   "outputs": [
    {
     "name": "stdout",
     "output_type": "stream",
     "text": [
      "['admin', 'config', 'local']\n"
     ]
    }
   ],
   "source": [
    "videos = myclient[\"videos\"] #access videos collection\n",
    "print(myclient.list_database_names())"
   ]
  },
  {
   "cell_type": "code",
   "execution_count": 5,
   "id": "2e54dce5",
   "metadata": {},
   "outputs": [],
   "source": [
    "import pandas as pd\n",
    "import numpy as np\n",
    "import json\n",
    "\n",
    "#Function to read json file as collection\n",
    "def read_json(filename,encoding):\n",
    "    with open(filename, 'r', encoding=encoding) as file:\n",
    "        try:\n",
    "            data = json.load(file)  # json.load() reads and decodes JSON from a file\n",
    "            return data\n",
    "        except json.JSONDecodeError as e:\n",
    "            print(f\"Error decoding JSON: {e}\")"
   ]
  },
  {
   "cell_type": "code",
   "execution_count": 3,
   "id": "23bac9af",
   "metadata": {},
   "outputs": [
    {
     "name": "stdout",
     "output_type": "stream",
     "text": [
      "['mia1136_student2', 'startup_log', 'lab4', 'mia1136_student_details', '21mia1136_student_details', 'users', 'mia1136_student1', 'inventory', 'ads']\n"
     ]
    }
   ],
   "source": [
    "db = myclient[\"local\"] #access local server\n",
    "videos = db[\"videos\"] #CREATE OPERATION: Create a collection\n",
    "\n",
    "print(db.list_collection_names())"
   ]
  },
  {
   "cell_type": "code",
   "execution_count": 6,
   "id": "883ab4b7",
   "metadata": {},
   "outputs": [
    {
     "name": "stdout",
     "output_type": "stream",
     "text": [
      "['mia1136_student2', 'startup_log', 'lab4', 'mia1136_student_details', 'videos', '21mia1136_student_details', 'users', 'mia1136_student1', 'inventory', 'ads']\n"
     ]
    }
   ],
   "source": [
    "#UPDATE OPERATION: Insert document into collection\n",
    "x = videos.insert_one(read_json(\"C:/Users/Admin/Documents/FALL 24-25 COURSES/CSE4077 - Recommender Systems/Recommender App/Scraped videos/Film & Animation/Inside Out 2 _ Official Trailer.json\",\n",
    "                               \"utf-16\"))\n",
    "\n",
    "print(db.list_collection_names())"
   ]
  },
  {
   "cell_type": "code",
   "execution_count": 7,
   "id": "d67302f3",
   "metadata": {},
   "outputs": [
    {
     "data": {
      "text/plain": [
       "Collection(Database(MongoClient(host=['localhost:27017'], document_class=dict, tz_aware=False, connect=True), 'local'), 'videos')"
      ]
     },
     "execution_count": 7,
     "metadata": {},
     "output_type": "execute_result"
    }
   ],
   "source": [
    "videos"
   ]
  },
  {
   "cell_type": "code",
   "execution_count": 9,
   "id": "78e2479a",
   "metadata": {},
   "outputs": [
    {
     "name": "stdout",
     "output_type": "stream",
     "text": [
      "{'_id': ObjectId('6734b54770f1f59e8194c69d'), 'title': 'Inside Out 2 | Official Trailer', 'url': 'https://www.youtube.com/watch?v=LEjhY15eCx0', 'channel': {'url': 'https://www.youtube.com/@pixar', 'name': 'Pixar'}, 'tags': ['Pixar', 'Disney', 'Disney Pixar', 'Pixar Movie', 'Animation']}\n"
     ]
    }
   ],
   "source": [
    "#READ OPERATION: return all documents in a collection\n",
    "for x in videos.find():\n",
    "    print(x)"
   ]
  },
  {
   "cell_type": "code",
   "execution_count": 15,
   "id": "b02f8b20",
   "metadata": {},
   "outputs": [],
   "source": [
    "#Inserting more video documents\n",
    "addresses = [\n",
    "    \"C:/Users/Admin/Documents/FALL 24-25 COURSES/CSE4077 - Recommender Systems/Recommender App/Scraped videos/Education/L-3.0_ Divide and Conquer _ Algorithm.json\",\n",
    "    \"C:/Users/Admin/Documents/FALL 24-25 COURSES/CSE4077 - Recommender Systems/Recommender App/Scraped videos/Science & Technology/Electrolysis of Water.json\",\n",
    "    \"C:/Users/Admin/Documents/FALL 24-25 COURSES/CSE4077 - Recommender Systems/Recommender App/Scraped videos/Sports/NBA _UNEXPECTED Dunks_ MOMENTS.json\",\n",
    "    \"C:/Users/Admin/Documents/FALL 24-25 COURSES/CSE4077 - Recommender Systems/Recommender App/Scraped videos/Gaming/Halo Infinite _ PC Overview.json\",\n",
    "    \"C:/Users/Admin/Documents/FALL 24-25 COURSES/CSE4077 - Recommender Systems/Recommender App/Scraped videos/Music/Tina Turner - What's Love Got To Do With It (Official Music Video).json\"\n",
    "]\n",
    "\n",
    "sample = []\n",
    "for a in addresses:\n",
    "    sample.append(read_json(a,\"utf-16\"))"
   ]
  },
  {
   "cell_type": "code",
   "execution_count": 17,
   "id": "49e51ebe",
   "metadata": {},
   "outputs": [
    {
     "name": "stdout",
     "output_type": "stream",
     "text": [
      "{'_id': ObjectId('6734b54770f1f59e8194c69d'), 'title': 'Inside Out 2 | Official Trailer', 'url': 'https://www.youtube.com/watch?v=LEjhY15eCx0', 'channel': {'url': 'https://www.youtube.com/@pixar', 'name': 'Pixar'}, 'tags': ['Pixar', 'Disney', 'Disney Pixar', 'Pixar Movie', 'Animation']}\n",
      "{'_id': ObjectId('6734ba1570f1f59e8194c69e'), 'title': 'L-3.0: Divide and Conquer | Algorithm', 'url': 'https://www.youtube.com/watch?v=I8w2XN0w-fQ', 'channel': {'url': 'https://www.youtube.com/@GateSmashers', 'name': 'Gate Smashers'}, 'tags': ['how divide and conquer algorithm works', 'how divide and conquer approach work', 'what is divide and conquer algorithm', 'why divide and conquer works', 'is divide and conquer dynamic programming', 'is divide and conquer binary search', 'divide and conquer in design and analysis of algorithm', 'divide and conquer technique', 'divide and conquer technique with example', 'algorithm', 'divide and conquer', 'recurrence relation', 'dsa interview questions', 'daa interview', 'algorithm interview', 'dsa interview']}\n",
      "{'_id': ObjectId('6734ba1570f1f59e8194c69f'), 'title': 'Electrolysis of Water', 'url': 'https://www.youtube.com/watch?v=vFR9zUGt2C4', 'channel': {'url': 'https://www.youtube.com/@APphyzicks', 'name': 'Scott Milam'}, 'tags': ['Electrolysis', 'water', 'experiment', 'lab', 'hydrogen', 'oxygen', 'formula', 'H2O', 'H2', 'O2', 'gas', 'NaOH', 'electrolyte', '9V', 'batter', 'chemistry', 'modeling', 'Electrolysis Of Water', 'Water (Chemical Compound)', 'energy', 'electricity', 'current', 'decomposition', 'synthesis', 'gas test', 'splint test', 'splint', 'flaming', 'explosion']}\n",
      "{'_id': ObjectId('6734ba1570f1f59e8194c6a0'), 'title': 'NBA \"UNEXPECTED Dunks\" MOMENTS', 'url': 'https://www.youtube.com/watch?v=Xr5K6K9AwIg', 'channel': {'url': 'https://www.youtube.com/@GoldenHoopsProduction', 'name': 'Golden Hoops'}, 'tags': ['NBA', 'Basketball', 'LeBron James', 'Steph Curry', 'Kevin Durant', 'Ja Morant', 'LaMelo Ball', 'Giannis Antetokounmpo', 'Luka Doncic', 'Los Angeles Lakers', 'Golden State Warriors', 'Boston Celtics', 'Chicago Bulls', 'Highlights', 'Nikola Jokic', 'House of Highlights', 'Dunk', 'Shorts', 'Game Winner', 'Buzzer Beater', 'Michael Jordan', 'Kobe Bryant', 'Mix', 'Top 10', 'of the week', 'GOAT', 'Undisputed', 'ESPN', 'Brawl', 'Funny', 'Bloopers', 'Golden Hoops', 'Finals', 'Draft', '2k23', 'gameplay', 'Harden', 'Crossover', 'Ankle Breaker', 'Reaction', 'Shaqtin a Fool', 'Embiid']}\n",
      "{'_id': ObjectId('6734ba1570f1f59e8194c6a1'), 'title': 'Halo Infinite | PC Overview', 'url': 'https://www.youtube.com/watch?v=fax-YPAvuq0', 'channel': {'url': 'https://www.youtube.com/@Halo', 'name': 'HALO'}, 'tags': ['Halo', 'Xbox', '343 Industries', 'Master Chief']}\n",
      "{'_id': ObjectId('6734ba1570f1f59e8194c6a2'), 'title': \"Tina Turner - What's Love Got To Do With It (Official Music Video)\", 'url': 'https://www.youtube.com/watch?v=oGpFcHTxjZs', 'channel': {'url': 'https://www.youtube.com/@tinaturnervideos1', 'name': 'Tina Turner'}, 'tags': ['Tina', 'Turner', 'tina turner', \"tina turner what's love got to do with\", \"what's love got to do with it tina turner\", \"what's love got to do with it\", 'tina turner music videos', 'tina turner official video', 'tina turner official music videos', '1984 music', '1984 songs', 'official music video', 'music video', 'private dancer', 'tina turner private dancer', 'private dancer tina turner', 'tina turner best songs', '80s hits', '80s music', 'tina turner 80s']}\n"
     ]
    }
   ],
   "source": [
    "#insert_many function\n",
    "x = videos.insert_many(sample)\n",
    "\n",
    "for x in videos.find():\n",
    "    print(x)"
   ]
  },
  {
   "cell_type": "code",
   "execution_count": 18,
   "id": "d4f0590f",
   "metadata": {},
   "outputs": [
    {
     "name": "stdout",
     "output_type": "stream",
     "text": [
      "{'_id': ObjectId('6734b54770f1f59e8194c69d'), 'title': 'Inside Out 2 | Official Trailer'}\n",
      "{'_id': ObjectId('6734ba1570f1f59e8194c69e'), 'title': 'L-3.0: Divide and Conquer | Algorithm'}\n",
      "{'_id': ObjectId('6734ba1570f1f59e8194c69f'), 'title': 'Electrolysis of Water'}\n",
      "{'_id': ObjectId('6734ba1570f1f59e8194c6a0'), 'title': 'NBA \"UNEXPECTED Dunks\" MOMENTS'}\n",
      "{'_id': ObjectId('6734ba1570f1f59e8194c6a1'), 'title': 'Halo Infinite | PC Overview'}\n",
      "{'_id': ObjectId('6734ba1570f1f59e8194c6a2'), 'title': \"Tina Turner - What's Love Got To Do With It (Official Music Video)\"}\n"
     ]
    }
   ],
   "source": [
    "#Return only video titles\n",
    "for x in videos.find({},{\"title\":1}):\n",
    "    print(x)"
   ]
  },
  {
   "cell_type": "code",
   "execution_count": 24,
   "id": "e7959629",
   "metadata": {},
   "outputs": [
    {
     "name": "stdout",
     "output_type": "stream",
     "text": [
      "{'title': 'Inside Out 2 | Official Trailer'}\n",
      "{'title': 'L-3.0: Divide and Conquer | Algorithm'}\n",
      "{'title': 'NBA \"UNEXPECTED Dunks\" MOMENTS'}\n",
      "{'title': 'Halo Infinite | PC Overview'}\n",
      "{'title': \"Tina Turner - What's Love Got To Do With It (Official Music Video)\"}\n"
     ]
    }
   ],
   "source": [
    "#DELETE OPERATION: remove a video from the database\n",
    "#videos.delete_one({'title': 'Electrolysis of Water'})\n",
    "for x in videos.find({},{\"_id\":0,\"title\":1}):\n",
    "    print(x)"
   ]
  },
  {
   "cell_type": "code",
   "execution_count": 34,
   "id": "6b718b66",
   "metadata": {},
   "outputs": [],
   "source": [
    "#Function to classify a video based on its tags\n",
    "\n",
    "tag_db = read_json(\"tags_utf8.json\",\"utf-8\") #load tag database\n",
    "\n",
    "def category(video_title):\n",
    "    #Accessing metadata from title\n",
    "    query = {\"title\":video_title}\n",
    "    video = dict()\n",
    "    for x in videos.find(query):\n",
    "        video = x\n",
    "    \n",
    "    #Score dictionary to measure frequency of categories\n",
    "    scores = {'Gaming':0,'Sports':0,'Education':0,'Autos & Vehicles':0,'Music':0,'Science & Technology':0,'Pets & Animals':0,\n",
    "             'Food':0,'Film & Animation':0}\n",
    "    \n",
    "    #Split tags and remove duplicates\n",
    "    split_tags = []\n",
    "    for tag in video['tags']:\n",
    "        split_tags.extend(tag.split(\" \")) #Break down compound tags\n",
    "        \n",
    "    #Remove duplicates\n",
    "    unique_tags = list(set(split_tags))\n",
    "    \n",
    "    #Iterate through each tag\n",
    "    for tag in unique_tags:\n",
    "        #Decapitalize tags\n",
    "        if (tag[0]>='A')and(tag[0]<='Z'):\n",
    "            tag = tag.lower()\n",
    "        \n",
    "        #Find the key of a matching tag\n",
    "        for key, value in tag_db.items():\n",
    "            if tag in value:\n",
    "                #print(f\"The key for the value '{tag}' is: {key}\")\n",
    "                scores[key] = scores[key] + 1\n",
    "            \n",
    "    cat = list(filter(lambda x: scores[x] == max(scores.values()), scores))[0]\n",
    "    #print(f\"This video belongs to {cat} category\")\n",
    "    #print(f\"Scores = {scores.values()}\")\n",
    "    return cat"
   ]
  },
  {
   "cell_type": "code",
   "execution_count": 26,
   "id": "29f6eb2d",
   "metadata": {
    "scrolled": false
   },
   "outputs": [
    {
     "name": "stdout",
     "output_type": "stream",
     "text": [
      "{'_id': ObjectId('6734b54770f1f59e8194c69d'), 'title': 'Inside Out 2 | Official Trailer', 'url': 'https://www.youtube.com/watch?v=LEjhY15eCx0', 'channel': {'url': 'https://www.youtube.com/@pixar', 'name': 'Pixar'}, 'tags': ['Pixar', 'Disney', 'Disney Pixar', 'Pixar Movie', 'Animation']}\n",
      "Inside Out 2 | Official Trailer\n",
      "['Pixar', 'Disney', 'Disney Pixar', 'Pixar Movie', 'Animation']\n"
     ]
    }
   ],
   "source": [
    "query = {\"title\":\"Inside Out 2 | Official Trailer\"}\n",
    "test = dict()\n",
    "for x in videos.find(query):\n",
    "    #print(x)\n",
    "    test = x\n",
    "\n",
    "print(test)\n",
    "print(test['title'])\n",
    "print(test['tags'])\n",
    "#classify = {\"$set\":{\"category\":category()}}"
   ]
  },
  {
   "cell_type": "code",
   "execution_count": 29,
   "id": "01aebf34",
   "metadata": {},
   "outputs": [
    {
     "name": "stdout",
     "output_type": "stream",
     "text": [
      "{'_id': ObjectId('6734b54770f1f59e8194c69d'), 'title': 'Inside Out 2 | Official Trailer', 'url': 'https://www.youtube.com/watch?v=LEjhY15eCx0', 'channel': {'url': 'https://www.youtube.com/@pixar', 'name': 'Pixar'}, 'tags': ['Pixar', 'Disney', 'Disney Pixar', 'Pixar Movie', 'Animation'], 'category': 'Film & Animation'}\n"
     ]
    }
   ],
   "source": [
    "#Add category key to video document\n",
    "sample_title = \"Inside Out 2 | Official Trailer\"\n",
    "query = {\"title\":sample_title}\n",
    "classify = {\"$set\":{\"category\":category(sample_title)}}\n",
    "\n",
    "videos.update_one(query,classify)\n",
    "\n",
    "for x in videos.find(query):\n",
    "    print(x)"
   ]
  },
  {
   "cell_type": "code",
   "execution_count": 36,
   "id": "c8957a81",
   "metadata": {},
   "outputs": [
    {
     "name": "stdout",
     "output_type": "stream",
     "text": [
      "{'title': 'Inside Out 2 | Official Trailer', 'category': 'Film & Animation'}\n",
      "{'title': 'L-3.0: Divide and Conquer | Algorithm', 'category': 'Education'}\n",
      "{'title': 'NBA \"UNEXPECTED Dunks\" MOMENTS', 'category': 'Sports'}\n",
      "{'title': 'Halo Infinite | PC Overview', 'category': 'Gaming'}\n",
      "{'title': \"Tina Turner - What's Love Got To Do With It (Official Music Video)\", 'category': 'Music'}\n"
     ]
    }
   ],
   "source": [
    "#Classify multiple videos\n",
    "for x in videos.find({}):\n",
    "    videos.update_one({\"title\":x['title']},{\"$set\":{\"category\":category(x['title'])}})\n",
    "\n",
    "for x in videos.find({},{\"_id\":0,\"title\":1,\"category\":1}):\n",
    "    print(x)"
   ]
  },
  {
   "cell_type": "code",
   "execution_count": null,
   "id": "3251976f",
   "metadata": {},
   "outputs": [],
   "source": []
  }
 ],
 "metadata": {
  "kernelspec": {
   "display_name": "Python 3 (ipykernel)",
   "language": "python",
   "name": "python3"
  },
  "language_info": {
   "codemirror_mode": {
    "name": "ipython",
    "version": 3
   },
   "file_extension": ".py",
   "mimetype": "text/x-python",
   "name": "python",
   "nbconvert_exporter": "python",
   "pygments_lexer": "ipython3",
   "version": "3.9.12"
  }
 },
 "nbformat": 4,
 "nbformat_minor": 5
}
